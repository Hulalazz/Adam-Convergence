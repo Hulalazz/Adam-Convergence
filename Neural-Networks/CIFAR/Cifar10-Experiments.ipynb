{
 "cells": [
  {
   "cell_type": "code",
   "execution_count": 4,
   "metadata": {},
   "outputs": [],
   "source": [
    "import numpy as np\n",
    "import pandas as pd\n",
    "from sklearn.model_selection import GridSearchCV\n",
    "from keras.models import Sequential\n",
    "from keras.layers import Dense\n",
    "from keras.wrappers.scikit_learn import KerasClassifier\n",
    "from keras.optimizers import Adam\n",
    "from keras.callbacks import LearningRateScheduler\n",
    "\n",
    "from cifar_model import get_cifar10_cnn"
   ]
  },
  {
   "cell_type": "markdown",
   "metadata": {},
   "source": [
    "## CIFARNET Convolutional Neural Network Experiments\n",
    "\n",
    "Here, I tune and train CNN models, to recreate the empirical results of section 5 of the paper.\n",
    "\n",
    "As specified in the paper, I fix the parameter $\\beta_1$ at .99, and tune the learning rate $\\alpha$ and the hyperparameter $\\beta_2$ using a gridsearch, as done in the paper. \n",
    "\n",
    "The authors further specified that the number of hidden units is 100, and that they use the Relu activation function. I'll do the same."
   ]
  },
  {
   "cell_type": "markdown",
   "metadata": {},
   "source": [
    "## 0. Load CIFAR Dataset\n",
    "\n",
    "I've already created train and test splits for the MNIST dataset. They are conviniently stored as compressed numpy arrays."
   ]
  },
  {
   "cell_type": "code",
   "execution_count": 2,
   "metadata": {},
   "outputs": [],
   "source": [
    "X_train = np.load(\"../../data/CIFAR/X_train.npy\")\n",
    "X_test = np.load(\"../../data/CIFAR/X_test.npy\")\n",
    "y_train = np.load(\"../../data/CIFAR/y_train.npy\")\n",
    "y_test = np.load(\"../../data/CIFAR/y_test.npy\")"
   ]
  },
  {
   "cell_type": "markdown",
   "metadata": {},
   "source": [
    "## 1. A framework for exhaustive gridsearch\n",
    "\n",
    "The hyperpameters that I'll need to tune by gridsearch are: \n",
    "\n",
    "- $\\beta_2$\n",
    "- $\\alpha$.\n",
    "\n",
    "To do so in a neat fashion, and make use of all my cores (CPU training :( ) , I'll use the `GridSearchCV` class from `sklearn`, with the `KerasClassifier` wrapper.\n",
    "\n",
    "The interface of this wrapper requres that I define a function that can be called with a set of hyperparameter options and create a `Sequential` model that can be compiled and trained.\n",
    "\n",
    "The function that does this is in the file `cifar_model.py`\n",
    "\n",
    "Note the hyperparameters that I do not tune, as they are fixed by the authors:\n",
    "\n",
    "- $\\beta_1 = .9$\n",
    "- Discount rate: $\\alpha_t$ = $\\frac{\\alpha}{\\sqrt{t}}$\n",
    "- Batch size = 128"
   ]
  },
  {
   "cell_type": "code",
   "execution_count": 8,
   "metadata": {},
   "outputs": [
    {
     "name": "stdout",
     "output_type": "stream",
     "text": [
      "_________________________________________________________________\n",
      "Layer (type)                 Output Shape              Param #   \n",
      "=================================================================\n",
      "conv2d_5 (Conv2D)            (None, 32, 32, 64)        6976      \n",
      "_________________________________________________________________\n",
      "activation_9 (Activation)    (None, 32, 32, 64)        0         \n",
      "_________________________________________________________________\n",
      "max_pooling2d_3 (MaxPooling2 (None, 16, 16, 64)        0         \n",
      "_________________________________________________________________\n",
      "batch_normalization_3 (Batch (None, 16, 16, 64)        256       \n",
      "_________________________________________________________________\n",
      "conv2d_6 (Conv2D)            (None, 16, 16, 64)        147520    \n",
      "_________________________________________________________________\n",
      "activation_10 (Activation)   (None, 16, 16, 64)        0         \n",
      "_________________________________________________________________\n",
      "flatten_3 (Flatten)          (None, 16384)             0         \n",
      "_________________________________________________________________\n",
      "dense_5 (Dense)              (None, 384)               6291840   \n",
      "_________________________________________________________________\n",
      "activation_11 (Activation)   (None, 384)               0         \n",
      "_________________________________________________________________\n",
      "dropout_3 (Dropout)          (None, 384)               0         \n",
      "_________________________________________________________________\n",
      "dense_6 (Dense)              (None, 10)                3850      \n",
      "_________________________________________________________________\n",
      "activation_12 (Activation)   (None, 10)                0         \n",
      "=================================================================\n",
      "Total params: 6,450,442\n",
      "Trainable params: 6,450,314\n",
      "Non-trainable params: 128\n",
      "_________________________________________________________________\n"
     ]
    }
   ],
   "source": [
    "# Example of how this works:\n",
    "get_cifar10_cnn().summary()"
   ]
  },
  {
   "cell_type": "code",
   "execution_count": null,
   "metadata": {},
   "outputs": [],
   "source": []
  }
 ],
 "metadata": {
  "kernelspec": {
   "display_name": "Python 3",
   "language": "python",
   "name": "python3"
  },
  "language_info": {
   "codemirror_mode": {
    "name": "ipython",
    "version": 3
   },
   "file_extension": ".py",
   "mimetype": "text/x-python",
   "name": "python",
   "nbconvert_exporter": "python",
   "pygments_lexer": "ipython3",
   "version": "3.6.4"
  }
 },
 "nbformat": 4,
 "nbformat_minor": 2
}
